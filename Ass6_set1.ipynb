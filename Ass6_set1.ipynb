{
 "cells": [
  {
   "cell_type": "code",
   "execution_count": 1,
   "id": "0d97f99f-5c1a-41cd-b142-cbd2161048c1",
   "metadata": {},
   "outputs": [],
   "source": [
    "import numpy as np"
   ]
  },
  {
   "cell_type": "code",
   "execution_count": 2,
   "id": "8df8815a-4a8e-48fe-9fba-540a5885ad58",
   "metadata": {},
   "outputs": [
    {
     "name": "stdout",
     "output_type": "stream",
     "text": [
      "[[ True  True  True]\n",
      " [ True  True  True]\n",
      " [ True  True  True]]\n"
     ]
    }
   ],
   "source": [
    "boolean_grid = np.full((3, 3), True)\n",
    "print(boolean_grid)"
   ]
  },
  {
   "cell_type": "code",
   "execution_count": 4,
   "id": "cea39dc7-b977-47b3-897f-3cecc017d628",
   "metadata": {},
   "outputs": [],
   "source": [
    "arr = np.array([0, 1, 2, 3, 4, 5, 6, 7, 8, 9])\n",
    "odd_numbers = arr[arr % 2 != 0]"
   ]
  },
  {
   "cell_type": "code",
   "execution_count": 5,
   "id": "9428f29c-f8c9-4bc8-95e6-23324cc9a80e",
   "metadata": {},
   "outputs": [
    {
     "name": "stdout",
     "output_type": "stream",
     "text": [
      "[1 3 5 7 9]\n"
     ]
    }
   ],
   "source": [
    "print(odd_numbers)"
   ]
  },
  {
   "cell_type": "code",
   "execution_count": 6,
   "id": "78ccbd26-b9ba-4f45-967f-583ad197f163",
   "metadata": {},
   "outputs": [],
   "source": [
    "arr = np.array([0, 1, 2, 3, 4, 5, 6, 7, 8, 9])\n",
    "arr[arr % 2 != 0] = -1"
   ]
  },
  {
   "cell_type": "code",
   "execution_count": 7,
   "id": "d857f07e-ce60-4b10-9676-2d5fc2bcaa68",
   "metadata": {},
   "outputs": [
    {
     "name": "stdout",
     "output_type": "stream",
     "text": [
      "[ 0 -1  2 -1  4 -1  6 -1  8 -1]\n"
     ]
    }
   ],
   "source": [
    "print(arr)"
   ]
  },
  {
   "cell_type": "code",
   "execution_count": 8,
   "id": "997e5fb9-5d20-46b4-b569-39959e568472",
   "metadata": {},
   "outputs": [],
   "source": [
    "arr_2d = np.array([[1, 2, 3],[4, 5, 6],[7, 8, 9]])\n",
    "reversed = arr_2d[:, ::-1]"
   ]
  },
  {
   "cell_type": "code",
   "execution_count": 9,
   "id": "99a00ede-2265-41cd-a103-00a34722a632",
   "metadata": {},
   "outputs": [
    {
     "name": "stdout",
     "output_type": "stream",
     "text": [
      "[[3 2 1]\n",
      " [6 5 4]\n",
      " [9 8 7]]\n"
     ]
    }
   ],
   "source": [
    "print(reversed)"
   ]
  },
  {
   "cell_type": "code",
   "execution_count": 10,
   "id": "89bce6e6-4cc7-4816-a890-4ab5535cccc3",
   "metadata": {},
   "outputs": [],
   "source": [
    "arr = np.array([1, 8, 3, 6, 2, 9, 4, 7, 5])\n",
    "indices = np.where(arr > 5)"
   ]
  },
  {
   "cell_type": "code",
   "execution_count": 11,
   "id": "88e7abe1-b580-46ed-b17b-a7ea08550fb6",
   "metadata": {},
   "outputs": [
    {
     "name": "stdout",
     "output_type": "stream",
     "text": [
      "(array([1, 3, 5, 7]),)\n"
     ]
    }
   ],
   "source": [
    "print(indices)"
   ]
  },
  {
   "cell_type": "code",
   "execution_count": 12,
   "id": "19f4bb25-ff37-462e-b5ed-991f8e8bf35d",
   "metadata": {},
   "outputs": [],
   "source": [
    "arr_2d = np.array([[1, 2, 3],\n",
    "                   [4, 5, 6],\n",
    "                   [7, 8, 9]])\n",
    "last_element = arr_2d[-1, -1]"
   ]
  },
  {
   "cell_type": "code",
   "execution_count": 13,
   "id": "12472902-dbbc-401b-b051-c262011927a9",
   "metadata": {},
   "outputs": [
    {
     "name": "stdout",
     "output_type": "stream",
     "text": [
      "9\n"
     ]
    }
   ],
   "source": [
    "print(last_element)"
   ]
  },
  {
   "cell_type": "code",
   "execution_count": null,
   "id": "8394e9f4-0cc5-4445-bc7c-3bf8c3d06d3c",
   "metadata": {},
   "outputs": [],
   "source": []
  }
 ],
 "metadata": {
  "kernelspec": {
   "display_name": "Python [conda env:base] *",
   "language": "python",
   "name": "conda-base-py"
  },
  "language_info": {
   "codemirror_mode": {
    "name": "ipython",
    "version": 3
   },
   "file_extension": ".py",
   "mimetype": "text/x-python",
   "name": "python",
   "nbconvert_exporter": "python",
   "pygments_lexer": "ipython3",
   "version": "3.13.5"
  }
 },
 "nbformat": 4,
 "nbformat_minor": 5
}
