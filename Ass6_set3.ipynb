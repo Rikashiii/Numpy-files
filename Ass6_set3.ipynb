{
 "cells": [
  {
   "cell_type": "code",
   "execution_count": 1,
   "id": "901b90ad-5641-484d-a323-8c32e9597cf4",
   "metadata": {},
   "outputs": [],
   "source": [
    "import numpy as np"
   ]
  },
  {
   "cell_type": "code",
   "execution_count": 7,
   "id": "f90439e1-d2c6-44c8-b882-c02522609943",
   "metadata": {},
   "outputs": [],
   "source": [
    "arr1 = np.array([0, 10, 20, 30, 40, 50])\n",
    "arr2 = np.array([10, 30, 50, 70, 90])"
   ]
  },
  {
   "cell_type": "code",
   "execution_count": 8,
   "id": "338170cc-05e5-4d10-ad69-4815effd4441",
   "metadata": {},
   "outputs": [],
   "source": [
    "common_elements = arr1[np.isin(arr1, arr2)]"
   ]
  },
  {
   "cell_type": "code",
   "execution_count": 23,
   "id": "6ee9a617-d345-4c2d-a522-1249c8b4f480",
   "metadata": {},
   "outputs": [
    {
     "name": "stdout",
     "output_type": "stream",
     "text": [
      "[10 30 50]\n"
     ]
    }
   ],
   "source": [
    "#with intersect1d method\n",
    "arr1 = np.array([0, 10, 20, 30, 40, 50])\n",
    "arr2 = np.array([10, 30, 50, 70, 90])\n",
    "common_elements = np.intersect1d(arr1, arr2)\n",
    "print(common_elements)\n"
   ]
  },
  {
   "cell_type": "code",
   "execution_count": 9,
   "id": "f02c9562-658c-4c22-ae9f-9f982e1d5bc2",
   "metadata": {},
   "outputs": [
    {
     "name": "stdout",
     "output_type": "stream",
     "text": [
      "Array 1: [ 0 10 20 30 40 50]\n",
      "Array 2: [10 30 50 70 90]\n",
      "Common Elements: [10 30 50]\n"
     ]
    }
   ],
   "source": [
    "print(\"Array 1:\", arr1)\n",
    "print(\"Array 2:\", arr2)\n",
    "print(\"Common Elements:\", common_elements)"
   ]
  },
  {
   "cell_type": "code",
   "execution_count": 10,
   "id": "e7e082fe-8b2f-46f3-8b87-017afec7be7a",
   "metadata": {},
   "outputs": [],
   "source": [
    "arr = np.array([[1, 2, 3],\n",
    "                [4, 5, 6],\n",
    "                [7, 8, 9]])"
   ]
  },
  {
   "cell_type": "code",
   "execution_count": 11,
   "id": "ba5fe2f5-f968-4620-a41d-76a044eae859",
   "metadata": {},
   "outputs": [],
   "source": [
    "row_means = arr.mean(axis=1)\n",
    "result = arr - row_means.reshape(-1, 1)"
   ]
  },
  {
   "cell_type": "code",
   "execution_count": 12,
   "id": "3fe7f9c0-63d0-498d-be76-43664d79553d",
   "metadata": {},
   "outputs": [
    {
     "name": "stdout",
     "output_type": "stream",
     "text": [
      "Means of each row: [2. 5. 8.]\n",
      "\n",
      "Original Array:\n",
      " [[1 2 3]\n",
      " [4 5 6]\n",
      " [7 8 9]]\n",
      "\n",
      "Array after subtracting row means:\n",
      " [[-1.  0.  1.]\n",
      " [-1.  0.  1.]\n",
      " [-1.  0.  1.]]\n"
     ]
    }
   ],
   "source": [
    "print(\"Means of each row:\", row_means)\n",
    "print(\"\\nOriginal Array:\\n\", arr)\n",
    "print(\"\\nArray after subtracting row means:\\n\", result)"
   ]
  },
  {
   "cell_type": "code",
   "execution_count": 13,
   "id": "6b1b35bc-c124-4afd-bea0-147f7dd698c3",
   "metadata": {},
   "outputs": [],
   "source": [
    "arr = np.array([[1, 2, 3],\n",
    "                [4, 5, 6],\n",
    "                [7, 8, 9]])\n",
    "row_means = arr.mean(axis=1)\n",
    "result = arr - row_means.reshape(-1, 1)"
   ]
  },
  {
   "cell_type": "code",
   "execution_count": 14,
   "id": "105e88e0-c143-45c7-b148-6a5d31457239",
   "metadata": {},
   "outputs": [
    {
     "name": "stdout",
     "output_type": "stream",
     "text": [
      "Means of each row: [2. 5. 8.]\n",
      "\n",
      "Original Array:\n",
      " [[1 2 3]\n",
      " [4 5 6]\n",
      " [7 8 9]]\n",
      "\n",
      "Array after subtracting row means:\n",
      " [[-1.  0.  1.]\n",
      " [-1.  0.  1.]\n",
      " [-1.  0.  1.]]\n"
     ]
    }
   ],
   "source": [
    "print(\"Means of each row:\", row_means)\n",
    "print(\"\\nOriginal Array:\\n\", arr)\n",
    "print(\"\\nArray after subtracting row means:\\n\", result)"
   ]
  },
  {
   "cell_type": "code",
   "execution_count": 15,
   "id": "6e311467-d1c1-4ff7-8416-345f92de4d49",
   "metadata": {},
   "outputs": [],
   "source": [
    "arr = np.arange(16).reshape(4, 4)\n",
    "first_half = arr[:2, :]\n",
    "second_half = arr[2:, :]\n",
    "swapped_arr = np.vstack((second_half, first_half))"
   ]
  },
  {
   "cell_type": "code",
   "execution_count": 16,
   "id": "ec0d537d-2c6c-4eac-965b-21389b614ecc",
   "metadata": {},
   "outputs": [
    {
     "name": "stdout",
     "output_type": "stream",
     "text": [
      "Original Array:\n",
      " [[ 0  1  2  3]\n",
      " [ 4  5  6  7]\n",
      " [ 8  9 10 11]\n",
      " [12 13 14 15]]\n",
      "\n",
      "Swapped Array:\n",
      " [[ 8  9 10 11]\n",
      " [12 13 14 15]\n",
      " [ 0  1  2  3]\n",
      " [ 4  5  6  7]]\n"
     ]
    }
   ],
   "source": [
    "print(\"Original Array:\\n\", arr)\n",
    "print(\"\\nSwapped Array:\\n\", swapped_arr)"
   ]
  },
  {
   "cell_type": "code",
   "execution_count": 17,
   "id": "55bfef5e-4108-4e44-89e8-63d54202b8bf",
   "metadata": {},
   "outputs": [
    {
     "name": "stdout",
     "output_type": "stream",
     "text": [
      "Original Random Array: [51 92 14 71 60 20 82 86 74 74 87 99 23  2 21]\n"
     ]
    }
   ],
   "source": [
    "np.random.seed(42) \n",
    "random_arr = np.random.randint(0, 100, size=15)\n",
    "print(\"Original Random Array:\", random_arr)"
   ]
  },
  {
   "cell_type": "code",
   "execution_count": 18,
   "id": "e1fcdeec-d0fc-4a11-b538-65bf73192c2d",
   "metadata": {},
   "outputs": [
    {
     "name": "stdout",
     "output_type": "stream",
     "text": [
      "Indices that would sort the array: [13  2  5 14 12  0  4  3  9  8  6  7 10  1 11]\n"
     ]
    }
   ],
   "source": [
    "sorted_indices = np.argsort(random_arr)\n",
    "print(\"Indices that would sort the array:\", sorted_indices)"
   ]
  },
  {
   "cell_type": "code",
   "execution_count": 19,
   "id": "0ffe2a75-aa9d-4ef1-b915-971f8dfecc4f",
   "metadata": {},
   "outputs": [
    {
     "name": "stdout",
     "output_type": "stream",
     "text": [
      "\n",
      "Indices of the 5 largest values: [ 6  7 10  1 11]\n"
     ]
    }
   ],
   "source": [
    "indices_of_top_5 = sorted_indices[-5:]\n",
    "print(\"\\nIndices of the 5 largest values:\", indices_of_top_5)"
   ]
  },
  {
   "cell_type": "code",
   "execution_count": 20,
   "id": "9c25ac7c-7ad0-412b-af51-e81ba55be7cd",
   "metadata": {},
   "outputs": [
    {
     "name": "stdout",
     "output_type": "stream",
     "text": [
      "The 5 largest values are: [82 86 87 92 99]\n"
     ]
    }
   ],
   "source": [
    "print(\"The 5 largest values are:\", random_arr[indices_of_top_5])"
   ]
  },
  {
   "cell_type": "code",
   "execution_count": 21,
   "id": "b7cd2626-332c-44a7-b046-cbd791526cfc",
   "metadata": {},
   "outputs": [
    {
     "name": "stdout",
     "output_type": "stream",
     "text": [
      "Original Array with Duplicates:\n",
      " [[0 1 2]\n",
      " [3 4 5]\n",
      " [0 1 2]\n",
      " [6 7 8]\n",
      " [3 4 5]]\n"
     ]
    }
   ],
   "source": [
    "arr_with_duplicates = np.array([[0, 1, 2],\n",
    "                                [3, 4, 5],\n",
    "                                [0, 1, 2],\n",
    "                                [6, 7, 8],\n",
    "                                [3, 4, 5]])\n",
    "print(\"Original Array with Duplicates:\\n\", arr_with_duplicates)"
   ]
  },
  {
   "cell_type": "code",
   "execution_count": 22,
   "id": "9b6eb8cf-072f-4633-a19e-9a61e092ff3e",
   "metadata": {},
   "outputs": [
    {
     "name": "stdout",
     "output_type": "stream",
     "text": [
      "\n",
      "Array with Unique Rows Only:\n",
      " [[0 1 2]\n",
      " [3 4 5]\n",
      " [6 7 8]]\n"
     ]
    }
   ],
   "source": [
    "unique_rows = np.unique(arr_with_duplicates, axis=0)\n",
    "print(\"\\nArray with Unique Rows Only:\\n\", unique_rows)"
   ]
  },
  {
   "cell_type": "code",
   "execution_count": null,
   "id": "3ae7c4a1-1bdf-4937-bb3e-59d415bb6e52",
   "metadata": {},
   "outputs": [],
   "source": []
  }
 ],
 "metadata": {
  "kernelspec": {
   "display_name": "Python [conda env:base] *",
   "language": "python",
   "name": "conda-base-py"
  },
  "language_info": {
   "codemirror_mode": {
    "name": "ipython",
    "version": 3
   },
   "file_extension": ".py",
   "mimetype": "text/x-python",
   "name": "python",
   "nbconvert_exporter": "python",
   "pygments_lexer": "ipython3",
   "version": "3.13.5"
  }
 },
 "nbformat": 4,
 "nbformat_minor": 5
}
