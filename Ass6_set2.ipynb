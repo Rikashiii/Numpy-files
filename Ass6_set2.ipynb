{
 "cells": [
  {
   "cell_type": "code",
   "execution_count": 1,
   "id": "4d23e780-6753-40ab-b79d-cb6893da132c",
   "metadata": {},
   "outputs": [],
   "source": [
    "import numpy as np"
   ]
  },
  {
   "cell_type": "code",
   "execution_count": 5,
   "id": "5e24dab5-d952-47c7-8d62-db357dfbc7b6",
   "metadata": {},
   "outputs": [],
   "source": [
    "arr = np.array([10, 20, 30, 40, 50])\n",
    "\n",
    "\n",
    "arr_min = arr.min()\n",
    "arr_max = arr.max()\n",
    "\n",
    "normalized_arr = (arr - arr_min) / (arr_max - arr_min)"
   ]
  },
  {
   "cell_type": "code",
   "execution_count": 6,
   "id": "05da59d4-222f-4ae6-a553-1bbc683defa0",
   "metadata": {},
   "outputs": [
    {
     "name": "stdout",
     "output_type": "stream",
     "text": [
      "Original Array: [10 20 30 40 50]\n",
      "Normalized Array: [0.   0.25 0.5  0.75 1.  ]\n"
     ]
    }
   ],
   "source": [
    "print(\"Original Array:\", arr)\n",
    "print(\"Normalized Array:\", normalized_arr)\n"
   ]
  },
  {
   "cell_type": "code",
   "execution_count": 12,
   "id": "19e947c7-959a-4404-aeee-91fc1392c2bd",
   "metadata": {},
   "outputs": [
    {
     "name": "stdout",
     "output_type": "stream",
     "text": [
      "[[1. 1. 1. 1. 1.]\n",
      " [1. 0. 0. 0. 1.]\n",
      " [1. 0. 0. 0. 1.]\n",
      " [1. 0. 0. 0. 1.]\n",
      " [1. 1. 1. 1. 1.]]\n"
     ]
    }
   ],
   "source": [
    "border_array = np.ones((5, 5))\n",
    "border_array[1:-1, 1:-1] = 0\n",
    "print(border_array)"
   ]
  },
  {
   "cell_type": "code",
   "execution_count": 13,
   "id": "f02a5fcb-d1cb-4226-9eaf-8ccd7f0d5ed3",
   "metadata": {},
   "outputs": [],
   "source": [
    "random_arr = np.random.rand(10, 10)\n",
    "min_val = random_arr.min()\n",
    "max_val = random_arr.max()\n",
    "mean_val = random_arr.mean()\n",
    "std_val = random_arr.std()"
   ]
  },
  {
   "cell_type": "code",
   "execution_count": 16,
   "id": "e681f4d7-e2cb-41c5-bf49-85e02b1ac0e9",
   "metadata": {},
   "outputs": [
    {
     "name": "stdout",
     "output_type": "stream",
     "text": [
      "Minimum value: 0.0137\n",
      "Maximum value: 0.9918\n",
      "Mean value: 0.4607\n",
      "Standard Deviation: 0.2837\n"
     ]
    }
   ],
   "source": [
    "print(f\"Minimum value: {min_val:.4f}\")\n",
    "print(f\"Maximum value: {max_val:.4f}\")\n",
    "print(f\"Mean value: {mean_val:.4f}\")\n",
    "print(f\"Standard Deviation: {std_val:.4f}\")"
   ]
  },
  {
   "cell_type": "code",
   "execution_count": 17,
   "id": "8a21c50d-7a13-4d55-9e1f-203a46270791",
   "metadata": {},
   "outputs": [],
   "source": [
    "arr_2d = np.array([[1, 2, 3],\n",
    "                   [4, 5, 6],\n",
    "                   [7, 8, 9]])\n",
    "row_vector = np.array([10, 20, 30])\n",
    "result = arr_2d + row_vector"
   ]
  },
  {
   "cell_type": "code",
   "execution_count": 18,
   "id": "f4899f5c-9bae-45d5-a6b6-f9abee816bce",
   "metadata": {},
   "outputs": [
    {
     "name": "stdout",
     "output_type": "stream",
     "text": [
      "2D Array:\n",
      " [[1 2 3]\n",
      " [4 5 6]\n",
      " [7 8 9]]\n",
      "\n",
      "Row Vector:\n",
      " [10 20 30]\n",
      "\n",
      "Result of adding row vector:\n",
      " [[11 22 33]\n",
      " [14 25 36]\n",
      " [17 28 39]]\n"
     ]
    }
   ],
   "source": [
    "print(\"2D Array:\\n\", arr_2d)\n",
    "print(\"\\nRow Vector:\\n\", row_vector)\n",
    "print(\"\\nResult of adding row vector:\\n\", result)"
   ]
  },
  {
   "cell_type": "code",
   "execution_count": 20,
   "id": "9fff9ef4-a869-4ff3-a059-1e547d5151f6",
   "metadata": {},
   "outputs": [],
   "source": [
    "arr_2d = np.array([[1, 2, 3],\n",
    "                   [4, 5, 6],\n",
    "                   [7, 8, 9]])\n",
    "col_data = np.array([10, 20, 30])\n",
    "col_vector = col_data.reshape(3, 1)"
   ]
  },
  {
   "cell_type": "code",
   "execution_count": 21,
   "id": "cc0afed6-301b-47db-b03e-a6b319cd45d9",
   "metadata": {},
   "outputs": [],
   "source": [
    "result = arr_2d + col_vector"
   ]
  },
  {
   "cell_type": "code",
   "execution_count": 22,
   "id": "69b0a98f-536d-4bb5-8ac1-201e86afca1e",
   "metadata": {},
   "outputs": [
    {
     "name": "stdout",
     "output_type": "stream",
     "text": [
      "2D Array:\n",
      " [[1 2 3]\n",
      " [4 5 6]\n",
      " [7 8 9]]\n",
      "\n",
      "Column Vector:\n",
      " [[10]\n",
      " [20]\n",
      " [30]]\n",
      "\n",
      "Result of adding column vector:\n",
      " [[11 12 13]\n",
      " [24 25 26]\n",
      " [37 38 39]]\n"
     ]
    }
   ],
   "source": [
    "print(\"2D Array:\\n\", arr_2d)\n",
    "print(\"\\nColumn Vector:\\n\", col_vector)\n",
    "print(\"\\nResult of adding column vector:\\n\", result)"
   ]
  },
  {
   "cell_type": "code",
   "execution_count": 25,
   "id": "9ade7681-6cde-4f5c-b97a-decc8dc8df14",
   "metadata": {},
   "outputs": [
    {
     "name": "stdout",
     "output_type": "stream",
     "text": [
      "Original Array:\n",
      " [[9 4 1]\n",
      " [1 5 8]\n",
      " [3 2 6]]\n",
      "\n",
      "Indices to sort by column 1: [2 0 1]\n",
      "\n",
      "Array sorted by column 1:\n",
      " [[3 2 6]\n",
      " [9 4 1]\n",
      " [1 5 8]]\n"
     ]
    }
   ],
   "source": [
    "arr_to_sort = np.array([[9, 4, 1],\n",
    "                        [1, 5, 8],\n",
    "                        [3, 2, 6]])\n",
    "print(\"Original Array:\\n\", arr_to_sort)\n",
    "\n",
    "sorted_indices = arr_to_sort[:, 1].argsort()\n",
    "print(\"\\nIndices to sort by column 1:\", sorted_indices)\n",
    "\n",
    "sorted_array = arr_to_sort[sorted_indices]\n",
    "print(\"\\nArray sorted by column 1:\\n\", sorted_array)"
   ]
  },
  {
   "cell_type": "code",
   "execution_count": null,
   "id": "f342c02f-e2be-405b-bdcc-8cf5afeb99d7",
   "metadata": {},
   "outputs": [],
   "source": []
  }
 ],
 "metadata": {
  "kernelspec": {
   "display_name": "Python [conda env:base] *",
   "language": "python",
   "name": "conda-base-py"
  },
  "language_info": {
   "codemirror_mode": {
    "name": "ipython",
    "version": 3
   },
   "file_extension": ".py",
   "mimetype": "text/x-python",
   "name": "python",
   "nbconvert_exporter": "python",
   "pygments_lexer": "ipython3",
   "version": "3.13.5"
  }
 },
 "nbformat": 4,
 "nbformat_minor": 5
}
